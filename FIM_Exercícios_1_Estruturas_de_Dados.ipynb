{
  "nbformat": 4,
  "nbformat_minor": 0,
  "metadata": {
    "colab": {
      "provenance": [],
      "authorship_tag": "ABX9TyMl0y9406h4NYIUfwFQIpY+",
      "include_colab_link": true
    },
    "kernelspec": {
      "name": "python3",
      "display_name": "Python 3"
    },
    "language_info": {
      "name": "python"
    }
  },
  "cells": [
    {
      "cell_type": "markdown",
      "metadata": {
        "id": "view-in-github",
        "colab_type": "text"
      },
      "source": [
        "<a href=\"https://colab.research.google.com/github/larissaAlmeida98/pocs-power-bi/blob/master/FIM_Exerc%C3%ADcios_1_Estruturas_de_Dados.ipynb\" target=\"_parent\"><img src=\"https://colab.research.google.com/assets/colab-badge.svg\" alt=\"Open In Colab\"/></a>"
      ]
    },
    {
      "cell_type": "markdown",
      "source": [
        "## Exercícios 1 - Estruturas de Dados"
      ],
      "metadata": {
        "id": "RlvFcy9hobli"
      }
    },
    {
      "cell_type": "markdown",
      "source": [
        "#### 1. Crie uma lista contendo 10 valores inteiros aleatórios, entre 1 e 20. Imprima:\n",
        "#### a. O maior valor, o menor valor, a soma e a média dos valores na lista\n",
        "#### b. Ordene a lista, e em seguida, a imprima em ordem crescente\n",
        "#### c. Imprima a lista em ordem decrescente\n",
        "#### d. Solicite ao usuário que informe um valor e imprima a quantidade de ocorrências do valor na lista. Imprima uma mensagem, caso o valor não se encontre na lista"
      ],
      "metadata": {
        "id": "gVPNyvEpou4Y"
      }
    },
    {
      "cell_type": "code",
      "source": [
        "from random import sample\n",
        "\n",
        "lista = sample(range(1, 20), 10)\n",
        "print('Lista de números aleatórios de 1 a 20:' + str(lista))\n",
        "\n",
        "print('O maior número é:', max(lista))\n",
        "print('O menor número é:', min(lista))\n",
        "print('A soma dos valores é:', sum(lista))\n",
        "print('A média dos valores é:', sum(lista) / len(lista))\n",
        "\n",
        "lista.sort()\n",
        "print('Lista em ordem crescente:', lista)\n",
        "\n",
        "lista.reverse()\n",
        "print('Lista em ordem decrescente:', lista)\n",
        "\n",
        "numero = int(input('Digite um valor: '))\n",
        "if numero in (lista):\n",
        "    print(f'Número de ocorrências do valor {numero} é  {lista.count(numero)}')\n",
        "else:\n",
        "    print(f'O número {numero} não esta na lista')"
      ],
      "metadata": {
        "id": "gEIjdfppCgZS",
        "outputId": "02961d1f-0c9a-4840-df4e-e7d7249ae9f9",
        "colab": {
          "base_uri": "https://localhost:8080/"
        }
      },
      "execution_count": null,
      "outputs": [
        {
          "output_type": "stream",
          "name": "stdout",
          "text": [
            "Lista de números aleatórios de 1 a 20:[4, 12, 10, 19, 16, 7, 14, 18, 13, 8]\n",
            "O maior número é: 19\n",
            "O menor número é: 4\n",
            "A soma dos valores é: 121\n",
            "A média dos valores é: 12.1\n",
            "Lista em ordem crescente: [4, 7, 8, 10, 12, 13, 14, 16, 18, 19]\n",
            "Lista em ordem decrescente: [19, 18, 16, 14, 13, 12, 10, 8, 7, 4]\n",
            "Digite um valor: 1\n",
            "O número 1 não esta na lista\n"
          ]
        }
      ]
    },
    {
      "cell_type": "markdown",
      "source": [
        "#### 2. Crie duas listas com 10 valores inteiros aleatórios (escolha uma faixa qualquer). Crie outras duas listas: uma que contenha a soma dos elementos de mesma posição das duas listas originais, e outra que contenha a multiplicação dos valores de mesma posição.\n",
        "#### Imprima em seguida as 3 listas"
      ],
      "metadata": {
        "id": "C2cD5UIJppiX"
      }
    },
    {
      "cell_type": "code",
      "source": [
        "import random\n",
        "\n",
        "lista1 = []\n",
        "lista2 = []\n",
        "\n",
        "for i in range(10):\n",
        "    lista1.append(random.randint(1, 100))\n",
        "    lista2.append(random.randint(1, 100))\n",
        "\n",
        "print(\"Lista 1:\", lista1)\n",
        "print(\"Lista 2:\", lista2)\n",
        "\n",
        "soma_listas = [lista1[i] + lista2[i] for i in range(10)]\n",
        "multiplicacao_listas = [lista1[i] * lista2[i] for i in range(10)]\n",
        "\n",
        "print('A soma das duas listas é igual: ', soma_listas)\n",
        "print('A multiplicação das duas listas é igual: ', multiplicacao_listas)"
      ],
      "metadata": {
        "id": "pIChSOirSskB",
        "colab": {
          "base_uri": "https://localhost:8080/"
        },
        "outputId": "37178d09-63d2-4851-cf6b-9c94101253e9"
      },
      "execution_count": null,
      "outputs": [
        {
          "output_type": "stream",
          "name": "stdout",
          "text": [
            "Lista 1: [50, 17, 16, 1, 30, 96, 49, 51, 33, 89]\n",
            "Lista 2: [86, 18, 55, 70, 71, 52, 69, 40, 72, 30]\n",
            "A soma das duas listas é igual:  [136, 35, 71, 71, 101, 148, 118, 91, 105, 119]\n",
            "A multiplicação das duas listas é igual:  [4300, 306, 880, 70, 2130, 4992, 3381, 2040, 2376, 2670]\n"
          ]
        }
      ]
    },
    {
      "cell_type": "markdown",
      "source": [
        "#### 3. Considere a seguinte lista: [10, 20, 30, 30, 30, 40, 10, 20]. Faça um programa que exclua todas as ocorrências do número 30 da lista.\n"
      ],
      "metadata": {
        "id": "6hxykfRdB6py"
      }
    },
    {
      "cell_type": "code",
      "source": [
        "lista = [10, 20, 30, 30, 30, 40, 10, 20]\n",
        "\n",
        "while 30 in lista:\n",
        "    lista.remove(30)\n",
        "\n",
        "print(lista)\n"
      ],
      "metadata": {
        "colab": {
          "base_uri": "https://localhost:8080/"
        },
        "id": "JlcJzFMvD27a",
        "outputId": "774c7860-2cc5-4274-a87f-f5437defafc2"
      },
      "execution_count": null,
      "outputs": [
        {
          "output_type": "stream",
          "name": "stdout",
          "text": [
            "[10, 20, 40, 10, 20]\n"
          ]
        }
      ]
    },
    {
      "cell_type": "markdown",
      "source": [
        "#### 4. Crie uma lista contendo 10 valores inteiros aleatórios (escolha uma faixa qualquer). Crie outras duas listas: uma para armazenar os valores pares da primeira lista, e outra para armazenar os valores ímpares. Imprima em seguida as 3 listas."
      ],
      "metadata": {
        "id": "73mlPd5TEZPk"
      }
    },
    {
      "cell_type": "code",
      "source": [
        "import random\n",
        "\n",
        "lista = [random.randint(1, 50) for i in range(10)]\n",
        "\n",
        "pares = []\n",
        "impares = []\n",
        "\n",
        "for valor in lista:\n",
        "    if valor % 2 == 0:\n",
        "        pares.append(valor)\n",
        "    else:\n",
        "        impares.append(valor)\n",
        "\n",
        "print(\"Lista:\", lista)\n",
        "print(\"Valores pares:\", pares)\n",
        "print(\"Valores ímpares:\", impares)"
      ],
      "metadata": {
        "colab": {
          "base_uri": "https://localhost:8080/"
        },
        "id": "mc_UQoAtEcOC",
        "outputId": "d551bfd6-fa6b-4fb2-dbef-f6c4142de7d9"
      },
      "execution_count": null,
      "outputs": [
        {
          "output_type": "stream",
          "name": "stdout",
          "text": [
            "Lista: [45, 23, 7, 44, 4, 39, 29, 25, 17, 27]\n",
            "Valores pares: [44, 4]\n",
            "Valores ímpares: [45, 23, 7, 39, 29, 25, 17, 27]\n"
          ]
        }
      ]
    },
    {
      "cell_type": "markdown",
      "source": [
        "#### 5. Solicite ao usuário que digite uma data no formato DD/MM/AAAA e imprima a data por extenso. Por exemplo: 01/11/2022 – 08 de novembro de 2022 (dica: crie uma lista contendo o nome de cada mês do ano)"
      ],
      "metadata": {
        "id": "gKeXkTpSIcUz"
      }
    },
    {
      "cell_type": "code",
      "source": [
        "data = str(input(\"Digite uma data, utilizando barras como separador: \"))\n",
        "\n",
        "meses = ['Janeiro', 'Fevereiro', 'Março', 'Abril', 'Maio', 'Junho', 'Julho', 'Agosto', 'Setembro', 'Outubro', 'Novembro', 'Dezembro']\n",
        "dia,mes,ano = data.split(\"/\")\n",
        "print(f'{dia} de {(meses[int(mes)-1])} de {ano}')"
      ],
      "metadata": {
        "colab": {
          "base_uri": "https://localhost:8080/"
        },
        "id": "ndYR1p52HA5o",
        "outputId": "99a27af2-d1ad-48fa-b200-a829b19959a7"
      },
      "execution_count": null,
      "outputs": [
        {
          "output_type": "stream",
          "name": "stdout",
          "text": [
            "Digite uma data, utilizando barras como separador: 10/04/2023\n",
            "10 de Abril de 2023\n"
          ]
        }
      ]
    },
    {
      "cell_type": "markdown",
      "source": [
        "#### 6. Faça um programa que gere uma lista contendo 6 números aleatórios, de 1 a 60, que serão jogados na Mega-Sena. Em seguida, solicite ao usuário os 6 números sorteados. Imprima a lista contendo os números jogados, e a quantidade de números acertados no sorteio.\n"
      ],
      "metadata": {
        "id": "WXXksJs2IuZD"
      }
    },
    {
      "cell_type": "code",
      "source": [
        "jogados = random.sample(range(1, 61), 6)\n",
        "\n",
        "sorteados = []\n",
        "for i in range(6):\n",
        "    numero = int(input(\"Digite o {}º número sorteado (entre 1 e 60): \".format(i+1)))\n",
        "    sorteados.append(numero)\n",
        "\n",
        "print(\"Números jogados: \", jogados)\n",
        "print(\"Números sorteados: \", sorteados)\n",
        "\n",
        "acertados = 0\n",
        "for numero in sorteados:\n",
        "    if numero in jogados:\n",
        "        acertados += 1\n",
        "\n",
        "print(\"Quantidade de números acertados: \", acertados)"
      ],
      "metadata": {
        "colab": {
          "base_uri": "https://localhost:8080/"
        },
        "id": "tnPfHz2FIja0",
        "outputId": "32c34817-401e-45e7-f5cf-767f7e960822"
      },
      "execution_count": null,
      "outputs": [
        {
          "output_type": "stream",
          "name": "stdout",
          "text": [
            "Digite o 1º número sorteado (entre 1 e 60): 15\n",
            "Digite o 2º número sorteado (entre 1 e 60): 1\n",
            "Digite o 3º número sorteado (entre 1 e 60): 48\n",
            "Digite o 4º número sorteado (entre 1 e 60): 45\n",
            "Digite o 5º número sorteado (entre 1 e 60): 23\n",
            "Digite o 6º número sorteado (entre 1 e 60): 17\n",
            "Números jogados:  [23, 27, 46, 53, 33, 13]\n",
            "Números sorteados:  [15, 1, 48, 45, 23, 17]\n",
            "Quantidade de números acertados:  1\n"
          ]
        }
      ]
    },
    {
      "cell_type": "markdown",
      "source": [
        "#### UM FORMA MAIS COMPLETA"
      ],
      "metadata": {
        "id": "eNFEalhUL2IU"
      }
    },
    {
      "cell_type": "code",
      "source": [
        "import random\n",
        "\n",
        "numeros_possiveis = list(range(1, 61))\n",
        "\n",
        "numeros_sorteio = random.sample(numeros_possiveis, 6)\n",
        "\n",
        "numeros_usuario = []\n",
        "for i in range(6):\n",
        "    num = int(input(f\"Informe o {i+1}º número (1 a 60): \"))\n",
        "    while num < 1 or num > 60 or num in numeros_usuario:\n",
        "        print(\"Número inválido ou já escolhido. Tente novamente.\")\n",
        "        num = int(input(f\"Informe o {i+1}º número (1 a 60): \"))\n",
        "    numeros_usuario.append(num)\n",
        "\n",
        "numeros_sorteio.sort()\n",
        "numeros_usuario.sort()\n",
        "\n",
        "acertos = 0\n",
        "for num in numeros_usuario:\n",
        "    if num in numeros_sorteio:\n",
        "        acertos += 1\n",
        "\n",
        "print(f\"Números sorteados: {numeros_sorteio}\")\n",
        "print(f\"Seus números: {numeros_usuario}\")\n",
        "print(f\"Você acertou {acertos} números!\")"
      ],
      "metadata": {
        "colab": {
          "base_uri": "https://localhost:8080/"
        },
        "id": "O1tnUuOFJzeE",
        "outputId": "82e6ed54-d01b-4de2-b986-ad3dcbab30f0"
      },
      "execution_count": null,
      "outputs": [
        {
          "output_type": "stream",
          "name": "stdout",
          "text": [
            "Informe o 1º número (1 a 60): 20\n",
            "Informe o 2º número (1 a 60): 15\n",
            "Informe o 3º número (1 a 60): 25\n",
            "Informe o 4º número (1 a 60): 45\n",
            "Informe o 5º número (1 a 60): 15\n",
            "Número inválido ou já escolhido. Tente novamente.\n",
            "Informe o 5º número (1 a 60): 15\n",
            "Número inválido ou já escolhido. Tente novamente.\n",
            "Informe o 5º número (1 a 60): 42\n",
            "Informe o 6º número (1 a 60): 01\n",
            "Números sorteados: [1, 3, 16, 17, 21, 31]\n",
            "Seus números: [1, 15, 20, 25, 42, 45]\n",
            "Você acertou 1 números!\n"
          ]
        }
      ]
    },
    {
      "cell_type": "code",
      "source": [
        "4"
      ],
      "metadata": {
        "id": "kbD6WjPXK1bG"
      },
      "execution_count": null,
      "outputs": []
    }
  ]
}